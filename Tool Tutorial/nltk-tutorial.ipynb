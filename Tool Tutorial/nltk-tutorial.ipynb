{
 "cells": [
  {
   "cell_type": "markdown",
   "metadata": {
    "nbpresent": {
     "id": "b580fe61-93ad-4043-810d-94f519069b1b"
    }
   },
   "source": [
    "# Natural Language Toolkit (nltk):\n",
    "    NLTK is a library with interfaces to work with human language data.  "
    " The main objective of this package is to break down and analyze components of language for a variety of uses. 
    Language can often be complex and difficult to analyze, even the same language has various dialects depending on location. 
    Nltk can help us understand language by manipulating written documents and giving context to an ever evolving way of communicating. 
    This has practical applications in a variety of fields, from sociologists studying speech patterns in various areas of the world, to business analysts being able to learn more about their customers on social media." 
   ]
  },
  {
   "cell_type": "code",
   "execution_count": 2,
   "metadata": {
    "collapsed": false,
    "nbpresent": {
     "id": "71273f19-2320-4752-8528-3c6c4ef4e085"
    },
    "scrolled": true
   },
   "outputs": [
    {
     "name": "stdout",
     "output_type": "stream",
     "text": [
      "showing info https://raw.githubusercontent.com/nltk/nltk_data/gh-pages/index.xml\n"
     ]
    },
    {
     "data": {
      "text/plain": [
       "True"
      ]
     },
     "execution_count": 2,
     "metadata": {},
     "output_type": "execute_result"
    }
   ],
   "source": [
    "import nltk\n",
    "nltk.download()"
   ]
  },
  {
   "cell_type": "code",
   "execution_count": 5,
   "metadata": {
    "collapsed": false,
    "nbpresent": {
     "id": "150111bf-87f7-4761-a3c6-21f47452f3ac"
    }
   },
   "outputs": [
    {
     "name": "stdout",
     "output_type": "stream",
     "text": [
      "CIS 442D is very challenging and interesting class !!\n"
     ]
    },
    {
     "data": {
      "text/plain": [
       "['CIS',\n",
       " '442D',\n",
       " 'is',\n",
       " 'very',\n",
       " 'challenging',\n",
       " 'and',\n",
       " 'interesting',\n",
       " 'class',\n",
       " '!',\n",
       " '!']"
      ]
     },
     "execution_count": 5,
     "metadata": {},
     "output_type": "execute_result"
    }
   ],
   "source": [
    "sentence = \"\"\"CIS 442D is very challenging and interesting class !!\"\"\"\n",
    "print (sentence)\n",
    "tokens = nltk.word_tokenize(sentence) #interesting !! will be two separate tokens.\n",
    "tokens"
   ]
  },
  {
   "cell_type": "code",
   "execution_count": 8,
   "metadata": {
    "collapsed": false
   },
   "outputs": [
    {
     "data": {
      "text/plain": [
       "[('CIS', 'NNP'),\n",
       " ('442D', 'CD'),\n",
       " ('is', 'VBZ'),\n",
       " ('very', 'RB'),\n",
       " ('challenging', 'JJ'),\n",
       " ('and', 'CC'),\n",
       " ('interesting', 'JJ'),\n",
       " ('class', 'NN'),\n",
       " ('!', '.'),\n",
       " ('!', '.')]"
      ]
     },
     "execution_count": 8,
     "metadata": {},
     "output_type": "execute_result"
    }
   ],
   "source": [
    "tagged = nltk.pos_tag(tokens)\n",
    "tagged[0:10]"
   ]
  },
  {
   "cell_type": "code",
   "execution_count": 11,
   "metadata": {
    "collapsed": true
   },
   "outputs": [],
   "source": [
    "from nltk.corpus import treebank\n",
    "t = treebank.parsed_sents('wsj_0001.mrg')[0]\n",
    "t.draw()"
   ]
  },
  {
   "cell_type": "code",
   "execution_count": 12,
   "metadata": {
    "collapsed": false
   },
   "outputs": [
    {
     "data": {
      "text/plain": [
       "['The', 'Fulton', 'County', 'Grand', 'Jury', 'said', ...]"
      ]
     },
     "execution_count": 12,
     "metadata": {},
     "output_type": "execute_result"
    }
   ],
   "source": [
    "from nltk.corpus import brown\n",
    "brown.words()"
   ]
  },
  {
   "cell_type": "code",
   "execution_count": null,
   "metadata": {
    "collapsed": true
   },
   "outputs": [],
   "source": []
  }
 ],
 "metadata": {
  "anaconda-cloud": {},
  "kernelspec": {
   "display_name": "Python [conda root]",
   "language": "python",
   "name": "conda-root-py"
  },
  "language_info": {
   "codemirror_mode": {
    "name": "ipython",
    "version": 3
   },
   "file_extension": ".py",
   "mimetype": "text/x-python",
   "name": "python",
   "nbconvert_exporter": "python",
   "pygments_lexer": "ipython3",
   "version": "3.5.2"
  },
  "nbpresent": {
   "slides": {
    "abefdd6f-4489-41f6-83d6-d7f70ad6fcd8": {
     "id": "abefdd6f-4489-41f6-83d6-d7f70ad6fcd8",
     "layout": "grid",
     "prev": null,
     "regions": {
      "00ada303-dcc5-47fc-828d-497d9aec5b75": {
       "attrs": {
        "height": 1,
        "pad": 0.01,
        "treemap:weight": 1,
        "width": 1,
        "x": 0,
        "y": 0
       },
       "id": "00ada303-dcc5-47fc-828d-497d9aec5b75"
      }
     }
    }
   },
   "themes": {}
  }
 },
 "nbformat": 4,
 "nbformat_minor": 0
}
